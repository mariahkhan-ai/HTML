{
  "cells": [
    {
      "cell_type": "code",
      "execution_count": null,
      "metadata": {
        "id": "SjLYeD7LDR-d"
      },
      "outputs": [],
      "source": [
        "import pandas as pd\n",
        "import numpy as np\n",
        "import matplotlib.pyplot as plt\n",
        "import seaborn as sns\n",
        "from sklearn.ensemble import RandomForestClassifier\n",
        "from sklearn.model_selection import train_test_split\n",
        "from sklearn.preprocessing import OneHotEncoder\n",
        "from sklearn.compose import ColumnTransformer\n",
        "from sklearn.pipeline import Pipeline\n",
        "from sklearn.preprocessing import StandardScaler\n",
        "from sklearn.preprocessing import LabelEncoder\n",
        "from sklearn.model_selection import KFold\n"
      ]
    },
    {
      "cell_type": "code",
      "execution_count": null,
      "metadata": {
        "id": "HKUdteRzFCKF"
      },
      "outputs": [],
      "source": [
        "train_data = pd.read_csv('train_data.csv')\n",
        "train_data = train_data.drop(columns=['id'])\n",
        "test_data = pd.read_csv('2024_test_data (2).csv')"
      ]
    },
    {
      "cell_type": "code",
      "execution_count": null,
      "metadata": {
        "colab": {
          "base_uri": "https://localhost:8080/"
        },
        "id": "DWnCaoCoFE8v",
        "outputId": "52be437b-7f16-40b1-b6f7-fd2fcfec46db"
      },
      "outputs": [
        {
          "name": "stdout",
          "output_type": "stream",
          "text": [
            "Categorical Columns in train Data: ['home_team_abbr', 'away_team_abbr', 'date', 'is_night_game', 'home_pitcher', 'away_pitcher', 'home_team_season', 'away_team_season']\n"
          ]
        }
      ],
      "source": [
        "# Check for categorical columns in test_data\n",
        "categorical_columns = train_data.select_dtypes(include=['object', 'category']).columns.tolist()\n",
        "\n",
        "# Print the list of categorical columns\n",
        "print(\"Categorical Columns in train Data:\", categorical_columns)"
      ]
    },
    {
      "cell_type": "code",
      "execution_count": null,
      "metadata": {
        "colab": {
          "base_uri": "https://localhost:8080/"
        },
        "id": "z5qC23rVFTFJ",
        "outputId": "dd6b90c4-cf8e-4401-85e0-3b840eb8c93f"
      },
      "outputs": [
        {
          "name": "stdout",
          "output_type": "stream",
          "text": [
            "Categorical Columns in Test Data: ['home_team_abbr', 'away_team_abbr', 'is_night_game', 'home_pitcher', 'away_pitcher', 'home_team_season', 'away_team_season']\n"
          ]
        }
      ],
      "source": [
        "# Check for categorical columns in test_data\n",
        "categorical_columns_test = test_data.select_dtypes(include=['object', 'category']).columns.tolist()\n",
        "\n",
        "# Print the list of categorical columns\n",
        "print(\"Categorical Columns in Test Data:\", categorical_columns_test)"
      ]
    },
    {
      "cell_type": "code",
      "execution_count": null,
      "metadata": {
        "id": "i1ISDoI5FV5x"
      },
      "outputs": [],
      "source": [
        "train_data['fatigue_factor_home'] = train_data['home_pitcher_rest'] / (train_data['home_team_rest'] + 1)\n",
        "train_data['fatigue_factor_away'] = train_data['away_pitcher_rest'] / (train_data['away_team_rest'] + 1)\n",
        "test_data['fatigue_factor_home'] = test_data['home_pitcher_rest'] / (test_data['home_team_rest'] + 1)\n",
        "test_data['fatigue_factor_away'] = test_data['away_pitcher_rest'] / (test_data['away_team_rest'] + 1)"
      ]
    },
    {
      "cell_type": "code",
      "execution_count": null,
      "metadata": {
        "id": "eXMuLRV6FYiB"
      },
      "outputs": [],
      "source": [
        "train_data['home_performance'] = (train_data['home_batting_batting_avg_mean'] - train_data['home_pitching_earned_run_avg_mean'])\n",
        "train_data['away_performance'] = (train_data['away_batting_batting_avg_mean'] - train_data['away_pitching_earned_run_avg_mean'])\n",
        "test_data['home_performance'] = (test_data['home_batting_batting_avg_mean'] - test_data['home_pitching_earned_run_avg_mean'])\n",
        "test_data['away_performance'] = (test_data['away_batting_batting_avg_mean'] - test_data['away_pitching_earned_run_avg_mean'])\n"
      ]
    },
    {
      "cell_type": "code",
      "execution_count": null,
      "metadata": {
        "id": "DtO8UjecFaWX"
      },
      "outputs": [],
      "source": [
        "from sklearn.preprocessing import LabelEncoder\n",
        "\n",
        "# List of categorical columns to encode\n",
        "categorical_columns = [\n",
        "    'home_team_abbr', 'away_team_abbr', 'is_night_game',\n",
        "    'home_pitcher', 'away_pitcher', 'home_team_season', 'away_team_season'\n",
        "]\n",
        "\n",
        "# Initialize LabelEncoder\n",
        "label_encoders = {}\n",
        "\n"
      ]
    },
    {
      "cell_type": "code",
      "execution_count": null,
      "metadata": {
        "colab": {
          "base_uri": "https://localhost:8080/"
        },
        "id": "oPD7hUAYFcgQ",
        "outputId": "90ea9410-a0e5-4ad0-b081-221795d71285"
      },
      "outputs": [
        {
          "name": "stdout",
          "output_type": "stream",
          "text": [
            "Label encoding applied to column: home_team_abbr\n",
            "Label encoding applied to column: away_team_abbr\n",
            "Label encoding applied to column: is_night_game\n",
            "Label encoding applied to column: home_pitcher\n",
            "Label encoding applied to column: away_pitcher\n",
            "Label encoding applied to column: home_team_season\n",
            "Label encoding applied to column: away_team_season\n"
          ]
        }
      ],
      "source": [
        "# Apply label encoding to each column\n",
        "for col in categorical_columns:\n",
        "    if col in train_data.columns:\n",
        "        le = LabelEncoder()\n",
        "        train_data[col] = le.fit_transform(train_data[col].astype(str))  # Ensure dtype is string\n",
        "        label_encoders[col] = le  # Save the encoder for future use\n",
        "        print(f\"Label encoding applied to column: {col}\")\n",
        "    else:\n",
        "        print(f\"Column {col} not found in train_data.\")\n",
        "\n"
      ]
    },
    {
      "cell_type": "code",
      "execution_count": null,
      "metadata": {
        "colab": {
          "base_uri": "https://localhost:8080/"
        },
        "id": "qk3x_ePXFr9s",
        "outputId": "f37a0512-bc19-40a2-b984-f4a5b92e930e"
      },
      "outputs": [
        {
          "name": "stdout",
          "output_type": "stream",
          "text": [
            "Label encoding applied to column: home_team_abbr\n",
            "Label encoding applied to column: away_team_abbr\n",
            "Label encoding applied to column: is_night_game\n",
            "Label encoding applied to column: home_pitcher\n",
            "Label encoding applied to column: away_pitcher\n",
            "Label encoding applied to column: home_team_season\n",
            "Label encoding applied to column: away_team_season\n"
          ]
        }
      ],
      "source": [
        "# Apply label encoding to each column\n",
        "for col in categorical_columns:\n",
        "    if col in test_data.columns:\n",
        "        le = LabelEncoder()\n",
        "        test_data[col] = le.fit_transform(test_data[col].astype(str))  # Ensure dtype is string\n",
        "        label_encoders[col] = le  # Save the encoder for future use\n",
        "        print(f\"Label encoding applied to column: {col}\")\n",
        "    else:\n",
        "        print(f\"Column {col} not found in train_data.\")\n",
        "\n"
      ]
    },
    {
      "cell_type": "code",
      "execution_count": null,
      "metadata": {
        "colab": {
          "base_uri": "https://localhost:8080/",
          "height": 458
        },
        "id": "hVIbt8piI96i",
        "outputId": "f089e435-ca04-4ba4-9cbd-2275265b4daa"
      },
      "outputs": [
        {
          "data": {
            "text/html": [
              "<div>\n",
              "<style scoped>\n",
              "    .dataframe tbody tr th:only-of-type {\n",
              "        vertical-align: middle;\n",
              "    }\n",
              "\n",
              "    .dataframe tbody tr th {\n",
              "        vertical-align: top;\n",
              "    }\n",
              "\n",
              "    .dataframe thead th {\n",
              "        text-align: right;\n",
              "    }\n",
              "</style>\n",
              "<table border=\"1\" class=\"dataframe\">\n",
              "  <thead>\n",
              "    <tr style=\"text-align: right;\">\n",
              "      <th></th>\n",
              "      <th>home_team_wins_mean</th>\n",
              "    </tr>\n",
              "  </thead>\n",
              "  <tbody>\n",
              "    <tr>\n",
              "      <th>0</th>\n",
              "      <td>0.311179</td>\n",
              "    </tr>\n",
              "    <tr>\n",
              "      <th>1</th>\n",
              "      <td>-0.282099</td>\n",
              "    </tr>\n",
              "    <tr>\n",
              "      <th>2</th>\n",
              "      <td>-0.273817</td>\n",
              "    </tr>\n",
              "    <tr>\n",
              "      <th>3</th>\n",
              "      <td>0.275165</td>\n",
              "    </tr>\n",
              "    <tr>\n",
              "      <th>4</th>\n",
              "      <td>0.417835</td>\n",
              "    </tr>\n",
              "    <tr>\n",
              "      <th>...</th>\n",
              "      <td>...</td>\n",
              "    </tr>\n",
              "    <tr>\n",
              "      <th>11062</th>\n",
              "      <td>0.092905</td>\n",
              "    </tr>\n",
              "    <tr>\n",
              "      <th>11063</th>\n",
              "      <td>-1.952311</td>\n",
              "    </tr>\n",
              "    <tr>\n",
              "      <th>11064</th>\n",
              "      <td>-1.598944</td>\n",
              "    </tr>\n",
              "    <tr>\n",
              "      <th>11065</th>\n",
              "      <td>0.906471</td>\n",
              "    </tr>\n",
              "    <tr>\n",
              "      <th>11066</th>\n",
              "      <td>0.371463</td>\n",
              "    </tr>\n",
              "  </tbody>\n",
              "</table>\n",
              "<p>11067 rows × 1 columns</p>\n",
              "</div><br><label><b>dtype:</b> float64</label>"
            ],
            "text/plain": [
              "0        0.311179\n",
              "1       -0.282099\n",
              "2       -0.273817\n",
              "3        0.275165\n",
              "4        0.417835\n",
              "           ...   \n",
              "11062    0.092905\n",
              "11063   -1.952311\n",
              "11064   -1.598944\n",
              "11065    0.906471\n",
              "11066    0.371463\n",
              "Name: home_team_wins_mean, Length: 11067, dtype: float64"
            ]
          },
          "execution_count": 26,
          "metadata": {},
          "output_type": "execute_result"
        }
      ],
      "source": [
        "train_data['home_team_wins_mean']"
      ]
    },
    {
      "cell_type": "code",
      "execution_count": null,
      "metadata": {
        "id": "Krk6TytjJGhZ"
      },
      "outputs": [],
      "source": [
        "# Scaling parameters (from original data)\n",
        "min_val = 0  # Replace with actual minimum value\n",
        "max_val = 1  # Replace with actual maximum value\n",
        "\n",
        "# Reverse scaling function\n",
        "def reverse_scaling(scaled_value, min_val, max_val):\n",
        "    return scaled_value * (max_val - min_val) + min_val\n",
        "\n",
        "# Reverse scaling for training data\n",
        "train_data['home_team_wins_mean_original'] = train_data['home_team_wins_mean'].apply(\n",
        "    lambda x: reverse_scaling(x, min_val, max_val)\n",
        ")\n",
        "\n",
        "# Reverse scaling for test data\n",
        "test_data['home_team_wins_mean_original'] = test_data['home_team_wins_mean'].apply(\n",
        "    lambda x: reverse_scaling(x, min_val, max_val)\n",
        ")"
      ]
    },
    {
      "cell_type": "code",
      "execution_count": null,
      "metadata": {
        "colab": {
          "base_uri": "https://localhost:8080/",
          "height": 458
        },
        "id": "OICRL3qkJIow",
        "outputId": "9e0a6920-7ef1-4738-ad51-7bbcc41c6d67"
      },
      "outputs": [
        {
          "data": {
            "text/html": [
              "<div>\n",
              "<style scoped>\n",
              "    .dataframe tbody tr th:only-of-type {\n",
              "        vertical-align: middle;\n",
              "    }\n",
              "\n",
              "    .dataframe tbody tr th {\n",
              "        vertical-align: top;\n",
              "    }\n",
              "\n",
              "    .dataframe thead th {\n",
              "        text-align: right;\n",
              "    }\n",
              "</style>\n",
              "<table border=\"1\" class=\"dataframe\">\n",
              "  <thead>\n",
              "    <tr style=\"text-align: right;\">\n",
              "      <th></th>\n",
              "      <th>home_team_wins_mean_original</th>\n",
              "    </tr>\n",
              "  </thead>\n",
              "  <tbody>\n",
              "    <tr>\n",
              "      <th>0</th>\n",
              "      <td>0.311179</td>\n",
              "    </tr>\n",
              "    <tr>\n",
              "      <th>1</th>\n",
              "      <td>-0.282099</td>\n",
              "    </tr>\n",
              "    <tr>\n",
              "      <th>2</th>\n",
              "      <td>-0.273817</td>\n",
              "    </tr>\n",
              "    <tr>\n",
              "      <th>3</th>\n",
              "      <td>0.275165</td>\n",
              "    </tr>\n",
              "    <tr>\n",
              "      <th>4</th>\n",
              "      <td>0.417835</td>\n",
              "    </tr>\n",
              "    <tr>\n",
              "      <th>...</th>\n",
              "      <td>...</td>\n",
              "    </tr>\n",
              "    <tr>\n",
              "      <th>11062</th>\n",
              "      <td>0.092905</td>\n",
              "    </tr>\n",
              "    <tr>\n",
              "      <th>11063</th>\n",
              "      <td>-1.952311</td>\n",
              "    </tr>\n",
              "    <tr>\n",
              "      <th>11064</th>\n",
              "      <td>-1.598944</td>\n",
              "    </tr>\n",
              "    <tr>\n",
              "      <th>11065</th>\n",
              "      <td>0.906471</td>\n",
              "    </tr>\n",
              "    <tr>\n",
              "      <th>11066</th>\n",
              "      <td>0.371463</td>\n",
              "    </tr>\n",
              "  </tbody>\n",
              "</table>\n",
              "<p>11067 rows × 1 columns</p>\n",
              "</div><br><label><b>dtype:</b> float64</label>"
            ],
            "text/plain": [
              "0        0.311179\n",
              "1       -0.282099\n",
              "2       -0.273817\n",
              "3        0.275165\n",
              "4        0.417835\n",
              "           ...   \n",
              "11062    0.092905\n",
              "11063   -1.952311\n",
              "11064   -1.598944\n",
              "11065    0.906471\n",
              "11066    0.371463\n",
              "Name: home_team_wins_mean_original, Length: 11067, dtype: float64"
            ]
          },
          "execution_count": 15,
          "metadata": {},
          "output_type": "execute_result"
        }
      ],
      "source": [
        "train_data['home_team_wins_mean_original']"
      ]
    },
    {
      "cell_type": "code",
      "execution_count": null,
      "metadata": {
        "colab": {
          "base_uri": "https://localhost:8080/"
        },
        "id": "_Mz177YpJLJw",
        "outputId": "4fc2eb8e-31df-41df-ee46-8a440606b520"
      },
      "outputs": [
        {
          "name": "stderr",
          "output_type": "stream",
          "text": [
            "/usr/local/lib/python3.10/dist-packages/sklearn/base.py:486: UserWarning: X has feature names, but MinMaxScaler was fitted without feature names\n",
            "  warnings.warn(\n",
            "/usr/local/lib/python3.10/dist-packages/sklearn/base.py:486: UserWarning: X has feature names, but MinMaxScaler was fitted without feature names\n",
            "  warnings.warn(\n"
          ]
        }
      ],
      "source": [
        "from sklearn.preprocessing import MinMaxScaler\n",
        "import pandas as pd\n",
        "\n",
        "# Initialize scalers for the columns that require scaling\n",
        "scalers = [MinMaxScaler(), MinMaxScaler()]  # One for each column to be scaled\n",
        "\n",
        "\n",
        "# Fit and transform the training data\n",
        "train_data['home_team_wins_mean'] = scalers[0].fit_transform(train_data['home_team_wins_mean'].values.reshape(-1, 1))\n",
        "train_data['away_team_wins_mean'] = scalers[1].fit_transform(train_data['away_team_wins_mean'].values.reshape(-1, 1))\n",
        "\n",
        "# Transform the test data using the same scalers\n",
        "test_data['home_team_wins_mean'] = scalers[0].transform(test_data[['home_team_wins_mean']])\n",
        "test_data['away_team_wins_mean'] = scalers[1].transform(test_data[['away_team_wins_mean']])\n",
        "\n",
        "# Reverse scaling function (modify if required)\n",
        "def reverse_scale(df):\n",
        "    df['home_team_wins_skew'] = df['home_team_wins_skew'] * (df['home_team_wins_std'] / df['home_team_wins_mean'])\n",
        "    df['away_team_wins_skew'] = df['away_team_wins_skew'] * (df['away_team_wins_std'] / df['away_team_wins_mean'])\n",
        "    return df\n",
        "\n",
        "# Apply reverse scaling and deduction\n",
        "test_data = reverse_scale(test_data)\n",
        "train_data = reverse_scale(train_data)\n",
        "\n"
      ]
    },
    {
      "cell_type": "code",
      "execution_count": null,
      "metadata": {
        "colab": {
          "base_uri": "https://localhost:8080/",
          "height": 458
        },
        "id": "5KMpB3w5JQsv",
        "outputId": "4e82de3a-eb9e-4a46-d83c-94b3cb15cec7"
      },
      "outputs": [
        {
          "data": {
            "text/html": [
              "<div>\n",
              "<style scoped>\n",
              "    .dataframe tbody tr th:only-of-type {\n",
              "        vertical-align: middle;\n",
              "    }\n",
              "\n",
              "    .dataframe tbody tr th {\n",
              "        vertical-align: top;\n",
              "    }\n",
              "\n",
              "    .dataframe thead th {\n",
              "        text-align: right;\n",
              "    }\n",
              "</style>\n",
              "<table border=\"1\" class=\"dataframe\">\n",
              "  <thead>\n",
              "    <tr style=\"text-align: right;\">\n",
              "      <th></th>\n",
              "      <th>home_team_wins_mean</th>\n",
              "    </tr>\n",
              "  </thead>\n",
              "  <tbody>\n",
              "    <tr>\n",
              "      <th>0</th>\n",
              "      <td>0.536585</td>\n",
              "    </tr>\n",
              "    <tr>\n",
              "      <th>1</th>\n",
              "      <td>0.468750</td>\n",
              "    </tr>\n",
              "    <tr>\n",
              "      <th>2</th>\n",
              "      <td>0.469697</td>\n",
              "    </tr>\n",
              "    <tr>\n",
              "      <th>3</th>\n",
              "      <td>0.532468</td>\n",
              "    </tr>\n",
              "    <tr>\n",
              "      <th>4</th>\n",
              "      <td>0.548780</td>\n",
              "    </tr>\n",
              "    <tr>\n",
              "      <th>...</th>\n",
              "      <td>...</td>\n",
              "    </tr>\n",
              "    <tr>\n",
              "      <th>11062</th>\n",
              "      <td>0.511628</td>\n",
              "    </tr>\n",
              "    <tr>\n",
              "      <th>11063</th>\n",
              "      <td>0.277778</td>\n",
              "    </tr>\n",
              "    <tr>\n",
              "      <th>11064</th>\n",
              "      <td>0.318182</td>\n",
              "    </tr>\n",
              "    <tr>\n",
              "      <th>11065</th>\n",
              "      <td>0.604651</td>\n",
              "    </tr>\n",
              "    <tr>\n",
              "      <th>11066</th>\n",
              "      <td>0.543478</td>\n",
              "    </tr>\n",
              "  </tbody>\n",
              "</table>\n",
              "<p>11067 rows × 1 columns</p>\n",
              "</div><br><label><b>dtype:</b> float64</label>"
            ],
            "text/plain": [
              "0        0.536585\n",
              "1        0.468750\n",
              "2        0.469697\n",
              "3        0.532468\n",
              "4        0.548780\n",
              "           ...   \n",
              "11062    0.511628\n",
              "11063    0.277778\n",
              "11064    0.318182\n",
              "11065    0.604651\n",
              "11066    0.543478\n",
              "Name: home_team_wins_mean, Length: 11067, dtype: float64"
            ]
          },
          "execution_count": 30,
          "metadata": {},
          "output_type": "execute_result"
        }
      ],
      "source": [
        "train_data['home_team_wins_mean']"
      ]
    },
    {
      "cell_type": "code",
      "execution_count": null,
      "metadata": {
        "colab": {
          "base_uri": "https://localhost:8080/"
        },
        "id": "s1HHQzlbugpB",
        "outputId": "c95b4ffe-2fbe-46cf-f69f-31fce23c8e0c"
      },
      "outputs": [
        {
          "name": "stderr",
          "output_type": "stream",
          "text": [
            "/usr/local/lib/python3.10/dist-packages/sklearn/impute/_iterative.py:825: ConvergenceWarning: [IterativeImputer] Early stopping criterion not reached.\n",
            "  warnings.warn(\n"
          ]
        }
      ],
      "source": [
        "from sklearn.experimental import enable_iterative_imputer\n",
        "from sklearn.impute import IterativeImputer\n",
        "\n",
        "# Impute numeric columns\n",
        "numeric_columns = train_data.select_dtypes(include=[np.number]).columns\n",
        "imputer = IterativeImputer(random_state=42)\n",
        "train_data[numeric_columns] = imputer.fit_transform(train_data[numeric_columns])"
      ]
    },
    {
      "cell_type": "code",
      "execution_count": null,
      "metadata": {
        "id": "pnus8V1tzlZi"
      },
      "outputs": [],
      "source": [
        "test_data[numeric_columns] = imputer.transform(test_data[numeric_columns])"
      ]
    },
    {
      "cell_type": "code",
      "execution_count": null,
      "metadata": {
        "colab": {
          "base_uri": "https://localhost:8080/"
        },
        "id": "3QPLEXRizpUP",
        "outputId": "cb81da77-2e26-4734-bc48-22bf7b4a6b19"
      },
      "outputs": [
        {
          "name": "stdout",
          "output_type": "stream",
          "text": [
            "Missing values in the training data after preprocessing:\n",
            "0\n",
            "\n",
            "Missing values in the test data after preprocessing:\n",
            "0\n"
          ]
        }
      ],
      "source": [
        "print(\"Missing values in the training data after preprocessing:\")\n",
        "print(train_data.isnull().sum().sum())  # Should be 0\n",
        "print(\"\\nMissing values in the test data after preprocessing:\")\n",
        "print(test_data.isnull().sum().sum())  # Should be 0"
      ]
    },
    {
      "cell_type": "code",
      "execution_count": null,
      "metadata": {
        "id": "x1_WwP8F2jDp"
      },
      "outputs": [],
      "source": [
        "y_train = train_data['home_team_win']\n",
        "X_train = train_data.drop(columns=['home_team_win', 'date'])  # Drop target and unnecessary columns\n",
        "X_test = test_data.drop(columns=['id'])  # Drop 'date' column from test data if it exists\n"
      ]
    },
    {
      "cell_type": "code",
      "execution_count": null,
      "metadata": {
        "id": "Z2ozCvcP29qt"
      },
      "outputs": [],
      "source": [
        "from sklearn.model_selection import RandomizedSearchCV\n",
        "\n",
        "param_grid = {\n",
        "    'n_estimators': [50, 100, 200],\n",
        "    'learning_rate': [0.01, 0.1, 0.2],\n",
        "    'max_depth': [3, 5, 7],\n",
        "    'subsample': [0.8, 1.0],\n",
        "    'colsample_bytree': [0.8, 1.0],\n",
        "}\n",
        "\n",
        "random_search = RandomizedSearchCV(\n",
        "    estimator=model,\n",
        "    param_distributions=param_grid,\n",
        "    scoring='accuracy',\n",
        "    cv=3,\n",
        "    n_iter=10,\n",
        "    random_state=42,\n",
        "    n_jobs=-1\n",
        ")\n",
        "random_search.fit(X_train_selected, y_train)\n",
        "best_model = random_search.best_estimator_\n"
      ]
    },
    {
      "cell_type": "code",
      "execution_count": null,
      "metadata": {
        "id": "jte_uGge2_81"
      },
      "outputs": [],
      "source": [
        "from sklearn.metrics import accuracy_score, classification_report\n",
        "\n",
        "y_pred = best_model.predict(X_test_selected)"
      ]
    },
    {
      "cell_type": "code",
      "execution_count": null,
      "metadata": {
        "id": "OUhIwadM3B9t"
      },
      "outputs": [],
      "source": [
        "# Create a submission file\n",
        "submission = pd.DataFrame({\n",
        "    'id': test_data['id'],  # Ensure the 'id' column exists in the original test data\n",
        "    'home_team_win': y_pred\n",
        "})\n",
        "\n",
        "# Save to CSV\n",
        "submission.to_csv('submission2.2_stage_2.csv', index=False)\n",
        "print(\"Submission file 'submission.csv' created.\")"
      ]
    },
    {
      "cell_type": "code",
      "execution_count": null,
      "metadata": {
        "id": "ZQw1U21_3GDF"
      },
      "outputs": [],
      "source": []
    }
  ],
  "metadata": {
    "colab": {
      "provenance": []
    },
    "kernelspec": {
      "display_name": "Python 3",
      "name": "python3"
    },
    "language_info": {
      "name": "python"
    }
  },
  "nbformat": 4,
  "nbformat_minor": 0
}